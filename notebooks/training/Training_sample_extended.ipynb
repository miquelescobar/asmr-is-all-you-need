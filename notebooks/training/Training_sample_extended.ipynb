{
 "cells": [
  {
   "cell_type": "markdown",
   "metadata": {
    "colab_type": "text",
    "id": "_gZzCVQ1T_1b"
   },
   "source": [
    "# WaveRNN - Fit a 30min Sample"
   ]
  },
  {
   "cell_type": "code",
   "execution_count": 1,
   "metadata": {
    "colab": {
     "base_uri": "https://localhost:8080/",
     "height": 54
    },
    "colab_type": "code",
    "executionInfo": {
     "elapsed": 586,
     "status": "ok",
     "timestamp": 1590344466848,
     "user": {
      "displayName": "Pau Autrand Caballero",
      "photoUrl": "",
      "userId": "07605227258112484759"
     },
     "user_tz": -120
    },
    "id": "nz805dPFUQyn",
    "outputId": "0be7a29a-f604-41be-f4f6-8982bb5b1aa3"
   },
   "outputs": [
    {
     "name": "stdout",
     "output_type": "stream",
     "text": [
      "Drive already mounted at /content/drive; to attempt to forcibly remount, call drive.mount(\"/content/drive\", force_remount=True).\n"
     ]
    }
   ],
   "source": [
    "from google.colab import drive\n",
    "drive.mount('/content/drive')\n",
    "\n",
    "import os\n",
    "os.chdir(\"drive/My Drive/asmr-is-all-you-need/network\")\n"
   ]
  },
  {
   "cell_type": "code",
   "execution_count": 0,
   "metadata": {
    "colab": {},
    "colab_type": "code",
    "id": "G5V8aNUUT_1d"
   },
   "outputs": [],
   "source": [
    "import time, sys, math\n",
    "import numpy as np\n",
    "import torch\n",
    "from torch import optim\n",
    "import torch.nn as nn\n",
    "import torch.nn.functional as F\n",
    "from tqdm import tqdm, notebook\n",
    "from scipy.io import wavfile\n",
    "from librosa import resample\n",
    "from utils.display import *\n",
    "from utils.dsp import *\n",
    "from models.wavernn_extended import WaveRNN"
   ]
  },
  {
   "cell_type": "code",
   "execution_count": 0,
   "metadata": {
    "colab": {},
    "colab_type": "code",
    "id": "6KIDPACwW2zL"
   },
   "outputs": [],
   "source": [
    "files = [('../data/prova_glass.wav', 'glass'), ('../data/prova_silicon.wav', 'silicon')]\n",
    "# files = [('../data/prova_silicon.wav', 'silicon')]"
   ]
  },
  {
   "cell_type": "code",
   "execution_count": 14,
   "metadata": {
    "colab": {
     "base_uri": "https://localhost:8080/",
     "height": 34
    },
    "colab_type": "code",
    "executionInfo": {
     "elapsed": 517,
     "status": "ok",
     "timestamp": 1590344491945,
     "user": {
      "displayName": "Pau Autrand Caballero",
      "photoUrl": "",
      "userId": "07605227258112484759"
     },
     "user_tz": -120
    },
    "id": "nNkTUBaMT_1l",
    "outputId": "33151a83-af1e-442d-a8fa-ec4352608d93"
   },
   "outputs": [
    {
     "name": "stdout",
     "output_type": "stream",
     "text": [
      "Trainable Parameters: 3.093 million\n"
     ]
    }
   ],
   "source": [
    "notebook_name = 'extended_v1'\n",
    "sample_rate = 22050\n",
    "epochs = 2\n",
    "batch_size = 128\n",
    "\n",
    "model = WaveRNN().cuda()"
   ]
  },
  {
   "cell_type": "code",
   "execution_count": 0,
   "metadata": {
    "colab": {},
    "colab_type": "code",
    "id": "ZSnW88wvT_1r"
   },
   "outputs": [],
   "source": [
    "def split_signal(x) :\n",
    "    unsigned = x + 2**15\n",
    "    coarse = unsigned // 256\n",
    "    fine = unsigned % 256\n",
    "    return coarse, fine"
   ]
  },
  {
   "cell_type": "code",
   "execution_count": 0,
   "metadata": {
    "colab": {},
    "colab_type": "code",
    "id": "guVj5qcXT_1w"
   },
   "outputs": [],
   "source": [
    "def combine_signal(coarse, fine) :\n",
    "    return coarse * 256 + fine - 2**15"
   ]
  },
  {
   "cell_type": "code",
   "execution_count": 0,
   "metadata": {
    "colab": {},
    "colab_type": "code",
    "id": "j12_NuoYT_11"
   },
   "outputs": [],
   "source": [
    "def read_signal(file):\n",
    "    sr, sample = wavfile.read(file)\n",
    "    sample = sample.sum(axis=1) / 2\n",
    "    sample = resample(sample, orig_sr = sr, target_sr = sample_rate)\n",
    "    sample = sample.astype(np.int16)\n",
    "    return sample"
   ]
  },
  {
   "cell_type": "code",
   "execution_count": 0,
   "metadata": {
    "colab": {},
    "colab_type": "code",
    "id": "_9B6DroNT_16"
   },
   "outputs": [],
   "source": [
    "def preprocess_signal(signal, batch_size=batch_size):\n",
    "    coarse_classes, fine_classes = split_signal(signal)\n",
    "    coarse_classes = coarse_classes[:len(coarse_classes) // batch_size * batch_size]\n",
    "    fine_classes = fine_classes[:len(fine_classes) // batch_size * batch_size]\n",
    "    coarse_classes = np.reshape(coarse_classes, (batch_size, -1))\n",
    "    fine_classes = np.reshape(fine_classes, (batch_size, -1))\n",
    "    return coarse_classes, fine_classes"
   ]
  },
  {
   "cell_type": "code",
   "execution_count": 0,
   "metadata": {
    "colab": {},
    "colab_type": "code",
    "id": "_xJHajFtT_1_"
   },
   "outputs": [],
   "source": [
    "asmr2idx = dict()\n",
    "idx2asmr = []\n",
    "def asmr_processor(asmr_type):\n",
    "    if asmr_type not in asmr2idx:\n",
    "        idx2asmr.append(asmr_type)\n",
    "        asmr2idx[asmr_type] = len(idx2asmr)\n",
    "    return asmr2idx[asmr_type]"
   ]
  },
  {
   "cell_type": "markdown",
   "metadata": {
    "colab_type": "text",
    "id": "NFxW2yITT_2F"
   },
   "source": [
    "### Split/Combine Functions"
   ]
  },
  {
   "cell_type": "code",
   "execution_count": 0,
   "metadata": {
    "colab": {},
    "colab_type": "code",
    "id": "I9DuW4efT_2M"
   },
   "outputs": [],
   "source": [
    "def train(model, optimizer, asmr_number, embeddings, num_steps, batch_size, lr=1e-3, seq_len=960) :\n",
    "    \n",
    "    for p in optimizer.param_groups : p['lr'] = lr\n",
    "    start = time.time()\n",
    "    running_loss = 0\n",
    "    \n",
    "    for step in range(num_steps) :\n",
    "        \n",
    "        loss = 0\n",
    "        hidden = model.init_hidden(batch_size)\n",
    "        optimizer.zero_grad()\n",
    "        rand_idx = np.random.randint(0, coarse_classes.shape[1] - seq_len - 1)\n",
    "        \n",
    "        x_coarse = coarse_classes[:, rand_idx:rand_idx + seq_len]\n",
    "        x_coarse = torch.FloatTensor(x_coarse)\n",
    "        x_coarse = x_coarse / 127.5 - 1.\n",
    "        x_fine = fine_classes[:, rand_idx:rand_idx + seq_len]\n",
    "        x_fine = torch.FloatTensor(x_fine)\n",
    "        x_fine = x_fine / 127.5 - 1.\n",
    "        \n",
    "        y_coarse = coarse_classes[:, rand_idx + 1:rand_idx + seq_len + 1]\n",
    "        y_coarse = torch.LongTensor(y_coarse)\n",
    "        y_fine = fine_classes[:, rand_idx + 1: rand_idx + seq_len + 1]\n",
    "        y_fine = torch.LongTensor(y_fine)\n",
    "\n",
    "        embedding = embeddings(asmr_number)\n",
    "        for i in range(seq_len) :\n",
    "            \n",
    "            x_c_in = x_coarse[:, i:i + 1]\n",
    "            x_f_in = x_fine[:, i:i + 1]\n",
    "            x_input = torch.cat([x_c_in, x_f_in], dim=1)\n",
    "            x_input = x_input.cuda()\n",
    "            \n",
    "            c_target = y_coarse[:, i].cuda()\n",
    "            f_target = y_fine[:, i].cuda()\n",
    "            \n",
    "            \n",
    "            current_coarse = c_target.float() / 127.5 - 1.\n",
    "            current_coarse = current_coarse.unsqueeze(-1)\n",
    "            \n",
    "            out_coarse, out_fine, hidden = model(embedding, x_input, hidden, current_coarse)\n",
    "            \n",
    "            loss_coarse = F.cross_entropy(out_coarse, c_target)\n",
    "            loss_fine = F.cross_entropy(out_fine, f_target)\n",
    "            loss += (loss_coarse + loss_fine)\n",
    "        \n",
    "        running_loss += (loss.item() / seq_len)\n",
    "        loss.backward()\n",
    "        optimizer.step()\n",
    "        \n",
    "        elapsed = time_since(start)\n",
    "        speed = (step + 1) / (time.time() - start)\n",
    "        \n",
    "        stream('Step: %i/%i --- Loss: %.3f --- %s --- @ %.1f batches/sec ',\n",
    "              (step + 1, num_steps, running_loss / (step + 1), elapsed, speed))         "
   ]
  },
  {
   "cell_type": "code",
   "execution_count": 0,
   "metadata": {
    "colab": {},
    "colab_type": "code",
    "id": "qvNEkbb6T_2Q"
   },
   "outputs": [],
   "source": [
    "optimizer = optim.Adam(model.parameters())"
   ]
  },
  {
   "cell_type": "code",
   "execution_count": 0,
   "metadata": {
    "colab": {},
    "colab_type": "code",
    "id": "EAywLc7VlXNW"
   },
   "outputs": [],
   "source": [
    "embeddings = nn.Embedding(num_embeddings=len(files)+1, embedding_dim=16, padding_idx=0).cuda()"
   ]
  },
  {
   "cell_type": "code",
   "execution_count": 0,
   "metadata": {
    "colab": {
     "base_uri": "https://localhost:8080/",
     "height": 66,
     "referenced_widgets": [
      "1b5bda4bf2f74be1bcab503abeb628eb",
      "e49d9ed762bd4eda9a38195157dadd6b",
      "c02f92f883224baf978d07e3445bac66",
      "1374d03f555d461ba7a213af2f0f88d8",
      "12be10cc56374c91bb558f4af0d8e0d8",
      "fc9d17747a624336b20911ca6bfb8084",
      "57fec18ec9724284b6ee9cf08bd24652",
      "d8304a84535a4137a2dc64ea9f35297f"
     ]
    },
    "colab_type": "code",
    "executionInfo": {
     "elapsed": 5150,
     "status": "error",
     "timestamp": 1590320277980,
     "user": {
      "displayName": "Pau Autrand Caballero",
      "photoUrl": "",
      "userId": "07605227258112484759"
     },
     "user_tz": -120
    },
    "id": "2O8A8qvWT_2U",
    "outputId": "1988f158-498c-4060-c604-916926d750f9"
   },
   "outputs": [
    {
     "data": {
      "application/vnd.jupyter.widget-view+json": {
       "model_id": "1b5bda4bf2f74be1bcab503abeb628eb",
       "version_major": 2,
       "version_minor": 0
      },
      "text/plain": [
       "HBox(children=(FloatProgress(value=0.0), HTML(value='')))"
      ]
     },
     "metadata": {
      "tags": []
     },
     "output_type": "display_data"
    },
    {
     "name": "stdout",
     "output_type": "stream",
     "text": [
      "Step: 2/2 --- Loss: 3.836 --- 0m 4s --- @ 0.5 batches/sec "
     ]
    }
   ],
   "source": [
    "for _ in notebook.tqdm(range(100)):\n",
    "    for (file, asmr_type) in files:\n",
    "        sample = read_signal(file)\n",
    "        asmr_number = asmr_processor(asmr_type)\n",
    "        coarse_classes, fine_classes = preprocess_signal(sample)\n",
    "        \n",
    "        asmr_number = torch.ones([batch_size], dtype=torch.long).cuda() * asmr_number\n",
    "\n",
    "        train(model, optimizer, asmr_number, embeddings, num_steps=epochs, batch_size=batch_size, lr=1e-3)"
   ]
  },
  {
   "cell_type": "code",
   "execution_count": 0,
   "metadata": {
    "colab": {},
    "colab_type": "code",
    "id": "HzkxVnknT_2Y"
   },
   "outputs": [],
   "source": [
    "torch.save(model.state_dict(), f'outputs/{notebook_name}/model_{notebook_name}.pt')"
   ]
  },
  {
   "cell_type": "code",
   "execution_count": 23,
   "metadata": {
    "colab": {
     "base_uri": "https://localhost:8080/",
     "height": 151
    },
    "colab_type": "code",
    "executionInfo": {
     "elapsed": 588,
     "status": "ok",
     "timestamp": 1590345178751,
     "user": {
      "displayName": "Pau Autrand Caballero",
      "photoUrl": "",
      "userId": "07605227258112484759"
     },
     "user_tz": -120
    },
    "id": "ejrPdoxb9ZKm",
    "outputId": "eef05ddc-135a-4207-d7dd-ddd3c925bd6b"
   },
   "outputs": [
    {
     "data": {
      "text/plain": [
       "Parameter containing:\n",
       "tensor([[ 0.0000,  0.0000,  0.0000,  0.0000,  0.0000,  0.0000,  0.0000,  0.0000,\n",
       "          0.0000,  0.0000,  0.0000,  0.0000,  0.0000,  0.0000,  0.0000,  0.0000],\n",
       "        [-1.2488,  1.4049, -0.2708, -1.4467,  0.5609,  0.8664, -0.2327, -0.8576,\n",
       "          0.1752,  0.4649,  1.0354,  0.2161, -0.8152, -0.4376,  0.5105, -0.0937],\n",
       "        [-0.0528, -0.4788, -0.4407, -0.3140, -0.1513,  2.0285, -0.3473,  0.0342,\n",
       "         -1.1886,  2.1028, -0.8277, -0.9387,  1.9280,  0.3267, -0.3563, -0.6319]],\n",
       "       device='cuda:0', requires_grad=True)"
      ]
     },
     "execution_count": 23,
     "metadata": {
      "tags": []
     },
     "output_type": "execute_result"
    }
   ],
   "source": [
    "next(embeddings.parameters())"
   ]
  },
  {
   "cell_type": "code",
   "execution_count": 24,
   "metadata": {
    "colab": {
     "base_uri": "https://localhost:8080/",
     "height": 118
    },
    "colab_type": "code",
    "executionInfo": {
     "elapsed": 534,
     "status": "ok",
     "timestamp": 1590345191165,
     "user": {
      "displayName": "Pau Autrand Caballero",
      "photoUrl": "",
      "userId": "07605227258112484759"
     },
     "user_tz": -120
    },
    "id": "cRYyXGoomycr",
    "outputId": "e9f0fcd7-1935-49f4-d88c-f15c55faed68"
   },
   "outputs": [
    {
     "data": {
      "text/plain": [
       "[tensor([-1.2488,  1.4049, -0.2708, -1.4467,  0.5609,  0.8664, -0.2327, -0.8576,\n",
       "          0.1752,  0.4649,  1.0354,  0.2161, -0.8152, -0.4376,  0.5105, -0.0937],\n",
       "        device='cuda:0'),\n",
       " tensor([-0.0528, -0.4788, -0.4407, -0.3140, -0.1513,  2.0285, -0.3473,  0.0342,\n",
       "         -1.1886,  2.1028, -0.8277, -0.9387,  1.9280,  0.3267, -0.3563, -0.6319],\n",
       "        device='cuda:0')]"
      ]
     },
     "execution_count": 24,
     "metadata": {
      "tags": []
     },
     "output_type": "execute_result"
    }
   ],
   "source": [
    "emb = [i.detach() for i in next(embeddings.parameters())][1:]\n",
    "emb"
   ]
  },
  {
   "cell_type": "code",
   "execution_count": 25,
   "metadata": {
    "colab": {
     "base_uri": "https://localhost:8080/",
     "height": 84
    },
    "colab_type": "code",
    "executionInfo": {
     "elapsed": 154708,
     "status": "ok",
     "timestamp": 1590345349627,
     "user": {
      "displayName": "Pau Autrand Caballero",
      "photoUrl": "",
      "userId": "07605227258112484759"
     },
     "user_tz": -120
    },
    "id": "2uLreaFoT_2d",
    "outputId": "dc9471c7-5328-443a-a9d3-108871134f55"
   },
   "outputs": [
    {
     "name": "stdout",
     "output_type": "stream",
     "text": [
      "[tensor([-1.2488,  1.4049, -0.2708, -1.4467,  0.5609,  0.8664, -0.2327, -0.8576,\n",
      "         0.1752,  0.4649,  1.0354,  0.2161, -0.8152, -0.4376,  0.5105, -0.0937],\n",
      "       device='cuda:0')]\n",
      "Gen: 100000/100000 -- Speed: 651"
     ]
    }
   ],
   "source": [
    "asmr_types = set([0])\n",
    "asmr_types = [emb[i] for i in asmr_types]\n",
    "print(asmr_types)\n",
    "\n",
    "num_samples = 100_000\n",
    "output, c, f = model.generate(num_samples, asmr_types)"
   ]
  },
  {
   "cell_type": "code",
   "execution_count": 0,
   "metadata": {
    "colab": {},
    "colab_type": "code",
    "id": "GCnnkSXAT_2h"
   },
   "outputs": [],
   "source": [
    "def save_wav(y, filename, sample_rate) :\n",
    "    y = np.clip(y, -2**15, 2**15 - 1)\n",
    "    wavfile.write(filename, sample_rate, y.astype(np.int16))"
   ]
  },
  {
   "cell_type": "code",
   "execution_count": 0,
   "metadata": {
    "colab": {},
    "colab_type": "code",
    "id": "hBlmtR7MuzPs"
   },
   "outputs": [],
   "source": [
    "output_path = f'./outputs/{notebook_name}/gen_{notebook_name}1.wav'"
   ]
  },
  {
   "cell_type": "code",
   "execution_count": 0,
   "metadata": {
    "colab": {},
    "colab_type": "code",
    "id": "nnUjP1SYT_2l"
   },
   "outputs": [],
   "source": [
    "save_wav(output, output_path, sample_rate)"
   ]
  },
  {
   "cell_type": "code",
   "execution_count": 0,
   "metadata": {
    "colab": {},
    "colab_type": "code",
    "id": "_meysvV4QevI"
   },
   "outputs": [],
   "source": []
  }
 ],
 "metadata": {
  "accelerator": "GPU",
  "colab": {
   "collapsed_sections": [],
   "name": "Training_sample_extended.ipynb",
   "provenance": []
  },
  "kernelspec": {
   "display_name": "Python 3",
   "language": "python",
   "name": "python3"
  },
  "language_info": {
   "codemirror_mode": {
    "name": "ipython",
    "version": 3
   },
   "file_extension": ".py",
   "mimetype": "text/x-python",
   "name": "python",
   "nbconvert_exporter": "python",
   "pygments_lexer": "ipython3",
   "version": "3.7.4"
  },
  "widgets": {
   "application/vnd.jupyter.widget-state+json": {
    "12be10cc56374c91bb558f4af0d8e0d8": {
     "model_module": "@jupyter-widgets/controls",
     "model_name": "ProgressStyleModel",
     "state": {
      "_model_module": "@jupyter-widgets/controls",
      "_model_module_version": "1.5.0",
      "_model_name": "ProgressStyleModel",
      "_view_count": null,
      "_view_module": "@jupyter-widgets/base",
      "_view_module_version": "1.2.0",
      "_view_name": "StyleView",
      "bar_color": null,
      "description_width": "initial"
     }
    },
    "1374d03f555d461ba7a213af2f0f88d8": {
     "model_module": "@jupyter-widgets/controls",
     "model_name": "HTMLModel",
     "state": {
      "_dom_classes": [],
      "_model_module": "@jupyter-widgets/controls",
      "_model_module_version": "1.5.0",
      "_model_name": "HTMLModel",
      "_view_count": null,
      "_view_module": "@jupyter-widgets/controls",
      "_view_module_version": "1.5.0",
      "_view_name": "HTMLView",
      "description": "",
      "description_tooltip": null,
      "layout": "IPY_MODEL_d8304a84535a4137a2dc64ea9f35297f",
      "placeholder": "​",
      "style": "IPY_MODEL_57fec18ec9724284b6ee9cf08bd24652",
      "value": " 20/100 [05:26&lt;21:34, 16.18s/it]"
     }
    },
    "1b5bda4bf2f74be1bcab503abeb628eb": {
     "model_module": "@jupyter-widgets/controls",
     "model_name": "HBoxModel",
     "state": {
      "_dom_classes": [],
      "_model_module": "@jupyter-widgets/controls",
      "_model_module_version": "1.5.0",
      "_model_name": "HBoxModel",
      "_view_count": null,
      "_view_module": "@jupyter-widgets/controls",
      "_view_module_version": "1.5.0",
      "_view_name": "HBoxView",
      "box_style": "",
      "children": [
       "IPY_MODEL_c02f92f883224baf978d07e3445bac66",
       "IPY_MODEL_1374d03f555d461ba7a213af2f0f88d8"
      ],
      "layout": "IPY_MODEL_e49d9ed762bd4eda9a38195157dadd6b"
     }
    },
    "57fec18ec9724284b6ee9cf08bd24652": {
     "model_module": "@jupyter-widgets/controls",
     "model_name": "DescriptionStyleModel",
     "state": {
      "_model_module": "@jupyter-widgets/controls",
      "_model_module_version": "1.5.0",
      "_model_name": "DescriptionStyleModel",
      "_view_count": null,
      "_view_module": "@jupyter-widgets/base",
      "_view_module_version": "1.2.0",
      "_view_name": "StyleView",
      "description_width": ""
     }
    },
    "c02f92f883224baf978d07e3445bac66": {
     "model_module": "@jupyter-widgets/controls",
     "model_name": "FloatProgressModel",
     "state": {
      "_dom_classes": [],
      "_model_module": "@jupyter-widgets/controls",
      "_model_module_version": "1.5.0",
      "_model_name": "FloatProgressModel",
      "_view_count": null,
      "_view_module": "@jupyter-widgets/controls",
      "_view_module_version": "1.5.0",
      "_view_name": "ProgressView",
      "bar_style": "",
      "description": " 20%",
      "description_tooltip": null,
      "layout": "IPY_MODEL_fc9d17747a624336b20911ca6bfb8084",
      "max": 100,
      "min": 0,
      "orientation": "horizontal",
      "style": "IPY_MODEL_12be10cc56374c91bb558f4af0d8e0d8",
      "value": 20
     }
    },
    "d8304a84535a4137a2dc64ea9f35297f": {
     "model_module": "@jupyter-widgets/base",
     "model_name": "LayoutModel",
     "state": {
      "_model_module": "@jupyter-widgets/base",
      "_model_module_version": "1.2.0",
      "_model_name": "LayoutModel",
      "_view_count": null,
      "_view_module": "@jupyter-widgets/base",
      "_view_module_version": "1.2.0",
      "_view_name": "LayoutView",
      "align_content": null,
      "align_items": null,
      "align_self": null,
      "border": null,
      "bottom": null,
      "display": null,
      "flex": null,
      "flex_flow": null,
      "grid_area": null,
      "grid_auto_columns": null,
      "grid_auto_flow": null,
      "grid_auto_rows": null,
      "grid_column": null,
      "grid_gap": null,
      "grid_row": null,
      "grid_template_areas": null,
      "grid_template_columns": null,
      "grid_template_rows": null,
      "height": null,
      "justify_content": null,
      "justify_items": null,
      "left": null,
      "margin": null,
      "max_height": null,
      "max_width": null,
      "min_height": null,
      "min_width": null,
      "object_fit": null,
      "object_position": null,
      "order": null,
      "overflow": null,
      "overflow_x": null,
      "overflow_y": null,
      "padding": null,
      "right": null,
      "top": null,
      "visibility": null,
      "width": null
     }
    },
    "e49d9ed762bd4eda9a38195157dadd6b": {
     "model_module": "@jupyter-widgets/base",
     "model_name": "LayoutModel",
     "state": {
      "_model_module": "@jupyter-widgets/base",
      "_model_module_version": "1.2.0",
      "_model_name": "LayoutModel",
      "_view_count": null,
      "_view_module": "@jupyter-widgets/base",
      "_view_module_version": "1.2.0",
      "_view_name": "LayoutView",
      "align_content": null,
      "align_items": null,
      "align_self": null,
      "border": null,
      "bottom": null,
      "display": null,
      "flex": null,
      "flex_flow": null,
      "grid_area": null,
      "grid_auto_columns": null,
      "grid_auto_flow": null,
      "grid_auto_rows": null,
      "grid_column": null,
      "grid_gap": null,
      "grid_row": null,
      "grid_template_areas": null,
      "grid_template_columns": null,
      "grid_template_rows": null,
      "height": null,
      "justify_content": null,
      "justify_items": null,
      "left": null,
      "margin": null,
      "max_height": null,
      "max_width": null,
      "min_height": null,
      "min_width": null,
      "object_fit": null,
      "object_position": null,
      "order": null,
      "overflow": null,
      "overflow_x": null,
      "overflow_y": null,
      "padding": null,
      "right": null,
      "top": null,
      "visibility": null,
      "width": null
     }
    },
    "fc9d17747a624336b20911ca6bfb8084": {
     "model_module": "@jupyter-widgets/base",
     "model_name": "LayoutModel",
     "state": {
      "_model_module": "@jupyter-widgets/base",
      "_model_module_version": "1.2.0",
      "_model_name": "LayoutModel",
      "_view_count": null,
      "_view_module": "@jupyter-widgets/base",
      "_view_module_version": "1.2.0",
      "_view_name": "LayoutView",
      "align_content": null,
      "align_items": null,
      "align_self": null,
      "border": null,
      "bottom": null,
      "display": null,
      "flex": null,
      "flex_flow": null,
      "grid_area": null,
      "grid_auto_columns": null,
      "grid_auto_flow": null,
      "grid_auto_rows": null,
      "grid_column": null,
      "grid_gap": null,
      "grid_row": null,
      "grid_template_areas": null,
      "grid_template_columns": null,
      "grid_template_rows": null,
      "height": null,
      "justify_content": null,
      "justify_items": null,
      "left": null,
      "margin": null,
      "max_height": null,
      "max_width": null,
      "min_height": null,
      "min_width": null,
      "object_fit": null,
      "object_position": null,
      "order": null,
      "overflow": null,
      "overflow_x": null,
      "overflow_y": null,
      "padding": null,
      "right": null,
      "top": null,
      "visibility": null,
      "width": null
     }
    }
   }
  }
 },
 "nbformat": 4,
 "nbformat_minor": 1
}
